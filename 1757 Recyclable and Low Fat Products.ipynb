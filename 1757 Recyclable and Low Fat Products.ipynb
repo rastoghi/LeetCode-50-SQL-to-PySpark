{
 "cells": [
  {
   "cell_type": "code",
   "execution_count": 0,
   "metadata": {
    "application/vnd.databricks.v1+cell": {
     "cellMetadata": {
      "byteLimit": 2048000,
      "rowLimit": 10000
     },
     "inputWidgets": {},
     "nuid": "e3407ad8-2653-42dc-91cf-3db614864bad",
     "showTitle": false,
     "tableResultSettingsMap": {},
     "title": ""
    }
   },
   "outputs": [
    {
     "output_type": "display_data",
     "data": {
      "text/html": [
       "<style scoped>\n",
       "  .table-result-container {\n",
       "    max-height: 300px;\n",
       "    overflow: auto;\n",
       "  }\n",
       "  table, th, td {\n",
       "    border: 1px solid black;\n",
       "    border-collapse: collapse;\n",
       "  }\n",
       "  th, td {\n",
       "    padding: 5px;\n",
       "  }\n",
       "  th {\n",
       "    text-align: left;\n",
       "  }\n",
       "</style><div class='table-result-container'><table class='table-result'><thead style='background-color: white'><tr><th>Products_id</th><th>low_fats</th><th>recyclable</th></tr></thead><tbody><tr><td>0</td><td>Yes</td><td>No</td></tr><tr><td>1</td><td>Yes</td><td>Yes</td></tr><tr><td>2</td><td>No</td><td>Yes</td></tr><tr><td>3</td><td>Yes</td><td>Yes</td></tr><tr><td>4</td><td>No</td><td>No</td></tr></tbody></table></div>"
      ]
     },
     "metadata": {
      "application/vnd.databricks.v1+output": {
       "addedWidgets": {},
       "aggData": [],
       "aggError": "",
       "aggOverflow": false,
       "aggSchema": [],
       "aggSeriesLimitReached": false,
       "aggType": "",
       "arguments": {},
       "columnCustomDisplayInfos": {},
       "data": [
        [
         0,
         "Yes",
         "No"
        ],
        [
         1,
         "Yes",
         "Yes"
        ],
        [
         2,
         "No",
         "Yes"
        ],
        [
         3,
         "Yes",
         "Yes"
        ],
        [
         4,
         "No",
         "No"
        ]
       ],
       "datasetInfos": [],
       "dbfsResultPath": null,
       "isJsonSchema": true,
       "metadata": {},
       "overflow": false,
       "plotOptions": {
        "customPlotOptions": {},
        "displayType": "table",
        "pivotAggregation": null,
        "pivotColumns": null,
        "xColumns": null,
        "yColumns": null
       },
       "removedWidgets": [],
       "schema": [
        {
         "metadata": "{}",
         "name": "Products_id",
         "type": "\"long\""
        },
        {
         "metadata": "{}",
         "name": "low_fats",
         "type": "\"string\""
        },
        {
         "metadata": "{}",
         "name": "recyclable",
         "type": "\"string\""
        }
       ],
       "type": "table"
      }
     },
     "output_type": "display_data"
    }
   ],
   "source": [
    "from pyspark.sql.functions import *\n",
    "from pyspark.sql.types import *\n",
    "\n",
    "Products=[(0,'Yes','No'),          \n",
    "(1,'Yes','Yes') ,        \n",
    "(2,'No','Yes' ),         \n",
    "(3,'Yes','Yes'),          \n",
    "(4,'No','No')]\n",
    "Products_schema=[\"Products_id\",\"low_fats\",\"recyclable\"]\n",
    "Products_df=spark.createDataFrame(data=Products,schema=Products_schema)\n",
    "Products_df.display()"
   ]
  },
  {
   "cell_type": "code",
   "execution_count": 0,
   "metadata": {
    "application/vnd.databricks.v1+cell": {
     "cellMetadata": {
      "byteLimit": 2048000,
      "rowLimit": 10000
     },
     "inputWidgets": {},
     "nuid": "b5ddbb23-b3fc-4f22-80e3-5725fa2549c8",
     "showTitle": false,
     "tableResultSettingsMap": {},
     "title": ""
    }
   },
   "outputs": [
    {
     "output_type": "display_data",
     "data": {
      "text/html": [
       "<style scoped>\n",
       "  .table-result-container {\n",
       "    max-height: 300px;\n",
       "    overflow: auto;\n",
       "  }\n",
       "  table, th, td {\n",
       "    border: 1px solid black;\n",
       "    border-collapse: collapse;\n",
       "  }\n",
       "  th, td {\n",
       "    padding: 5px;\n",
       "  }\n",
       "  th {\n",
       "    text-align: left;\n",
       "  }\n",
       "</style><div class='table-result-container'><table class='table-result'><thead style='background-color: white'><tr><th>Products_id</th><th>low_fats</th><th>recyclable</th></tr></thead><tbody><tr><td>1</td><td>Yes</td><td>Yes</td></tr><tr><td>3</td><td>Yes</td><td>Yes</td></tr></tbody></table></div>"
      ]
     },
     "metadata": {
      "application/vnd.databricks.v1+output": {
       "addedWidgets": {},
       "aggData": [],
       "aggError": "",
       "aggOverflow": false,
       "aggSchema": [],
       "aggSeriesLimitReached": false,
       "aggType": "",
       "arguments": {},
       "columnCustomDisplayInfos": {},
       "data": [
        [
         1,
         "Yes",
         "Yes"
        ],
        [
         3,
         "Yes",
         "Yes"
        ]
       ],
       "datasetInfos": [],
       "dbfsResultPath": null,
       "isJsonSchema": true,
       "metadata": {},
       "overflow": false,
       "plotOptions": {
        "customPlotOptions": {},
        "displayType": "table",
        "pivotAggregation": null,
        "pivotColumns": null,
        "xColumns": null,
        "yColumns": null
       },
       "removedWidgets": [],
       "schema": [
        {
         "metadata": "{}",
         "name": "Products_id",
         "type": "\"long\""
        },
        {
         "metadata": "{}",
         "name": "low_fats",
         "type": "\"string\""
        },
        {
         "metadata": "{}",
         "name": "recyclable",
         "type": "\"string\""
        }
       ],
       "type": "table"
      }
     },
     "output_type": "display_data"
    }
   ],
   "source": [
    "Products_df.filter((col(\"low_fats\")==\"Yes\") & (col(\"recyclable\")==\"Yes\"))\\\n",
    "           .select(col(\"Products_id\"),(\"low_fats\"),(\"recyclable\")).display()"
   ]
  },
  {
   "cell_type": "code",
   "execution_count": 0,
   "metadata": {
    "application/vnd.databricks.v1+cell": {
     "cellMetadata": {
      "byteLimit": 2048000,
      "rowLimit": 10000
     },
     "inputWidgets": {},
     "nuid": "2b1a7e04-d259-461c-b5ec-b524f93512bb",
     "showTitle": false,
     "tableResultSettingsMap": {},
     "title": ""
    }
   },
   "outputs": [
    {
     "output_type": "display_data",
     "data": {
      "text/html": [
       "<style scoped>\n",
       "  .table-result-container {\n",
       "    max-height: 300px;\n",
       "    overflow: auto;\n",
       "  }\n",
       "  table, th, td {\n",
       "    border: 1px solid black;\n",
       "    border-collapse: collapse;\n",
       "  }\n",
       "  th, td {\n",
       "    padding: 5px;\n",
       "  }\n",
       "  th {\n",
       "    text-align: left;\n",
       "  }\n",
       "</style><div class='table-result-container'><table class='table-result'><thead style='background-color: white'><tr><th>Products_id</th><th>low_fats</th><th>recyclable</th></tr></thead><tbody><tr><td>0</td><td>Yes</td><td>No</td></tr><tr><td>1</td><td>Yes</td><td>Yes</td></tr><tr><td>2</td><td>No</td><td>Yes</td></tr><tr><td>3</td><td>Yes</td><td>Yes</td></tr><tr><td>4</td><td>No</td><td>No</td></tr></tbody></table></div>"
      ]
     },
     "metadata": {
      "application/vnd.databricks.v1+output": {
       "addedWidgets": {},
       "aggData": [],
       "aggError": "",
       "aggOverflow": false,
       "aggSchema": [],
       "aggSeriesLimitReached": false,
       "aggType": "",
       "arguments": {},
       "columnCustomDisplayInfos": {},
       "data": [
        [
         0,
         "Yes",
         "No"
        ],
        [
         1,
         "Yes",
         "Yes"
        ],
        [
         2,
         "No",
         "Yes"
        ],
        [
         3,
         "Yes",
         "Yes"
        ],
        [
         4,
         "No",
         "No"
        ]
       ],
       "datasetInfos": [],
       "dbfsResultPath": null,
       "isJsonSchema": true,
       "metadata": {},
       "overflow": false,
       "plotOptions": {
        "customPlotOptions": {},
        "displayType": "table",
        "pivotAggregation": null,
        "pivotColumns": null,
        "xColumns": null,
        "yColumns": null
       },
       "removedWidgets": [],
       "schema": [
        {
         "metadata": "{}",
         "name": "Products_id",
         "type": "\"long\""
        },
        {
         "metadata": "{}",
         "name": "low_fats",
         "type": "\"string\""
        },
        {
         "metadata": "{}",
         "name": "recyclable",
         "type": "\"string\""
        }
       ],
       "type": "table"
      }
     },
     "output_type": "display_data"
    },
    {
     "output_type": "display_data",
     "data": {
      "text/html": [
       "<style scoped>\n",
       "  .table-result-container {\n",
       "    max-height: 300px;\n",
       "    overflow: auto;\n",
       "  }\n",
       "  table, th, td {\n",
       "    border: 1px solid black;\n",
       "    border-collapse: collapse;\n",
       "  }\n",
       "  th, td {\n",
       "    padding: 5px;\n",
       "  }\n",
       "  th {\n",
       "    text-align: left;\n",
       "  }\n",
       "</style><div class='table-result-container'><table class='table-result'><thead style='background-color: white'><tr><th>Products_id</th></tr></thead><tbody><tr><td>1</td></tr><tr><td>3</td></tr></tbody></table></div>"
      ]
     },
     "metadata": {
      "application/vnd.databricks.v1+output": {
       "addedWidgets": {},
       "aggData": [],
       "aggError": "",
       "aggOverflow": false,
       "aggSchema": [],
       "aggSeriesLimitReached": false,
       "aggType": "",
       "arguments": {},
       "columnCustomDisplayInfos": {},
       "data": [
        [
         1
        ],
        [
         3
        ]
       ],
       "datasetInfos": [],
       "dbfsResultPath": null,
       "isJsonSchema": true,
       "metadata": {},
       "overflow": false,
       "plotOptions": {
        "customPlotOptions": {},
        "displayType": "table",
        "pivotAggregation": null,
        "pivotColumns": null,
        "xColumns": null,
        "yColumns": null
       },
       "removedWidgets": [],
       "schema": [
        {
         "metadata": "{}",
         "name": "Products_id",
         "type": "\"long\""
        }
       ],
       "type": "table"
      }
     },
     "output_type": "display_data"
    }
   ],
   "source": [
    "from pyspark.sql.functions import *\n",
    "from pyspark.sql.types import *\n",
    "\n",
    "Products=[(0,'Yes','No'),\n",
    "(1,'Yes','Yes'),\n",
    "(2,'No','Yes' ),\n",
    "(3,'Yes','Yes'),\n",
    "(4,'No','No')]\n",
    "Products_schema=[\"Products_id\",\"low_fats\",\"recyclable\"]\n",
    "Products_df=spark.createDataFrame(data=Products,schema=Products_schema)\n",
    "\n",
    "Products_df.display()\n",
    "\n",
    "\n",
    "Products_df.filter((col(\"low_fats\")==\"Yes\") & (col(\"recyclable\")==\"Yes\"))\\\n",
    "           .select(col(\"Products_id\")).display()"
   ]
  },
  {
   "cell_type": "code",
   "execution_count": 0,
   "metadata": {
    "application/vnd.databricks.v1+cell": {
     "cellMetadata": {},
     "inputWidgets": {},
     "nuid": "099d234f-5284-4019-a88c-d84618d11ca6",
     "showTitle": false,
     "tableResultSettingsMap": {},
     "title": ""
    }
   },
   "outputs": [],
   "source": []
  }
 ],
 "metadata": {
  "application/vnd.databricks.v1+notebook": {
   "dashboards": [],
   "environmentMetadata": null,
   "language": "python",
   "notebookMetadata": {
    "pythonIndentUnit": 4
   },
   "notebookName": "1757 Recyclable and Low Fat Products",
   "widgets": {}
  }
 },
 "nbformat": 4,
 "nbformat_minor": 0
}
