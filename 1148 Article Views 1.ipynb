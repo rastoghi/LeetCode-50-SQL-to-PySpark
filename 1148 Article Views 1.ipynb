{
 "cells": [
  {
   "cell_type": "code",
   "execution_count": 0,
   "metadata": {
    "application/vnd.databricks.v1+cell": {
     "cellMetadata": {
      "byteLimit": 2048000,
      "rowLimit": 10000
     },
     "inputWidgets": {},
     "nuid": "e86b4c16-a838-44cc-a5fd-b443bce2b599",
     "showTitle": false,
     "tableResultSettingsMap": {},
     "title": ""
    }
   },
   "outputs": [
    {
     "output_type": "stream",
     "name": "stdout",
     "output_type": "stream",
     "text": [
      "+----------+---------+---------+----------+\n|article_id|author_id|viewer_id| view_date|\n+----------+---------+---------+----------+\n|         1|        3|        5|2019-08-01|\n|         1|        3|        6|2019-08-02|\n|         2|        7|        7|2019-08-01|\n|         2|        7|        6|2019-08-02|\n|         4|        7|        1|2019-07-22|\n|         3|        4|        4|2019-07-21|\n|         3|        4|        4|2019-07-21|\n+----------+---------+---------+----------+\n\n"
     ]
    }
   ],
   "source": [
    "from pyspark.sql.functions import *\n",
    "from pyspark.sql.types import *\n",
    "\n",
    "Views=[(1, 3, 5, \"2019-08-01\"), \n",
    "(1, 3, 6, \"2019-08-02\"), \n",
    "(2, 7, 7, \"2019-08-01\"),\n",
    "(2, 7, 6, \"2019-08-02\"), \n",
    "(4, 7, 1, \"2019-07-22\"), \n",
    "(3, 4, 4, \"2019-07-21\"), \n",
    "(3, 4, 4, \"2019-07-21\")]\n",
    "Views_schema=[\"article_id\",\"author_id\",\"viewer_id\",\"view_date\"]\n",
    "\n",
    "Views_df=spark.createDataFrame(data=Views,schema=Views_schema)\n",
    "\n",
    "Views_df.show()"
   ]
  },
  {
   "cell_type": "code",
   "execution_count": 0,
   "metadata": {
    "application/vnd.databricks.v1+cell": {
     "cellMetadata": {
      "byteLimit": 2048000,
      "rowLimit": 10000
     },
     "inputWidgets": {},
     "nuid": "d1b0b279-bb82-46e9-bad3-ab4a1a2d4b6f",
     "showTitle": false,
     "tableResultSettingsMap": {},
     "title": ""
    }
   },
   "outputs": [
    {
     "output_type": "stream",
     "name": "stdout",
     "output_type": "stream",
     "text": [
      "+---+\n| id|\n+---+\n|  4|\n|  7|\n+---+\n\n"
     ]
    }
   ],
   "source": [
    "from pyspark.sql.functions import *\n",
    "from pyspark.sql.types import *\n",
    "\n",
    "\n",
    "\n",
    "Views_df.filter(col(\"author_id\")==col(\"Viewer_id\"))\\\n",
    "        .select(col(\"author_id\").alias(\"id\")).distinct()\\\n",
    "        .orderBy(col(\"author_id\").asc()).show()"
   ]
  },
  {
   "cell_type": "markdown",
   "metadata": {
    "application/vnd.databricks.v1+cell": {
     "cellMetadata": {},
     "inputWidgets": {},
     "nuid": "8f4cce9e-131e-49f5-978b-d1ff82c836df",
     "showTitle": false,
     "tableResultSettingsMap": {},
     "title": ""
    }
   },
   "source": [
    "# PySpark SQL"
   ]
  },
  {
   "cell_type": "code",
   "execution_count": 0,
   "metadata": {
    "application/vnd.databricks.v1+cell": {
     "cellMetadata": {
      "byteLimit": 2048000,
      "rowLimit": 10000
     },
     "inputWidgets": {},
     "nuid": "ac9b195f-9c12-419c-bcd0-ca82fb5c3aff",
     "showTitle": false,
     "tableResultSettingsMap": {},
     "title": ""
    }
   },
   "outputs": [],
   "source": [
    "\n",
    "#Create a SQL Table\n",
    "Views_df.createOrReplaceTempView(\"Views_tbl\")\n",
    "\n"
   ]
  },
  {
   "cell_type": "code",
   "execution_count": 0,
   "metadata": {
    "application/vnd.databricks.v1+cell": {
     "cellMetadata": {
      "byteLimit": 2048000,
      "rowLimit": 10000
     },
     "inputWidgets": {},
     "nuid": "3046b8ff-a604-4a70-98fe-96c793c1b93d",
     "showTitle": false,
     "tableResultSettingsMap": {},
     "title": ""
    }
   },
   "outputs": [
    {
     "output_type": "stream",
     "name": "stdout",
     "output_type": "stream",
     "text": [
      "+---+\n| id|\n+---+\n|  4|\n|  7|\n+---+\n\n"
     ]
    }
   ],
   "source": [
    "from pyspark.sql.functions import *\n",
    "from pyspark.sql.types import *\n",
    "\n",
    "spark.sql(\"\"\"select distinct author_id as id\n",
    "          from Views_tbl\n",
    "          where author_id=viewer_id\n",
    "          order by id\n",
    "\"\"\").show()"
   ]
  },
  {
   "cell_type": "code",
   "execution_count": 0,
   "metadata": {
    "application/vnd.databricks.v1+cell": {
     "cellMetadata": {},
     "inputWidgets": {},
     "nuid": "a355d728-921f-400f-ba03-0cda70a713e9",
     "showTitle": false,
     "tableResultSettingsMap": {},
     "title": ""
    }
   },
   "outputs": [],
   "source": []
  }
 ],
 "metadata": {
  "application/vnd.databricks.v1+notebook": {
   "dashboards": [],
   "environmentMetadata": null,
   "language": "python",
   "notebookMetadata": {
    "pythonIndentUnit": 4
   },
   "notebookName": "1148 Article Views 1",
   "widgets": {}
  }
 },
 "nbformat": 4,
 "nbformat_minor": 0
}
